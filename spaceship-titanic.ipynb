{
 "cells": [
  {
   "cell_type": "code",
   "execution_count": 1,
   "id": "ce857294",
   "metadata": {
    "execution": {
     "iopub.execute_input": "2022-07-01T17:22:15.172746Z",
     "iopub.status.busy": "2022-07-01T17:22:15.171314Z",
     "iopub.status.idle": "2022-07-01T17:22:15.258226Z",
     "shell.execute_reply": "2022-07-01T17:22:15.257061Z"
    },
    "papermill": {
     "duration": 0.096725,
     "end_time": "2022-07-01T17:22:15.261558",
     "exception": false,
     "start_time": "2022-07-01T17:22:15.164833",
     "status": "completed"
    },
    "tags": []
   },
   "outputs": [],
   "source": [
    "# Import data\n",
    "import pandas as pd\n",
    "\n",
    "train_data = pd.read_csv('/kaggle/input/spaceship-titanic/train.csv')\n",
    "test_data = pd.read_csv('/kaggle/input/spaceship-titanic/test.csv')"
   ]
  },
  {
   "cell_type": "code",
   "execution_count": 2,
   "id": "ad77ce28",
   "metadata": {
    "execution": {
     "iopub.execute_input": "2022-07-01T17:22:15.269853Z",
     "iopub.status.busy": "2022-07-01T17:22:15.269554Z",
     "iopub.status.idle": "2022-07-01T17:22:15.308515Z",
     "shell.execute_reply": "2022-07-01T17:22:15.306174Z"
    },
    "papermill": {
     "duration": 0.048537,
     "end_time": "2022-07-01T17:22:15.313766",
     "exception": false,
     "start_time": "2022-07-01T17:22:15.265229",
     "status": "completed"
    },
    "tags": []
   },
   "outputs": [
    {
     "name": "stdout",
     "output_type": "stream",
     "text": [
      "Data types:\n",
      "PassengerId      object\n",
      "HomePlanet       object\n",
      "CryoSleep        object\n",
      "Cabin            object\n",
      "Destination      object\n",
      "Age             float64\n",
      "VIP              object\n",
      "RoomService     float64\n",
      "FoodCourt       float64\n",
      "ShoppingMall    float64\n",
      "Spa             float64\n",
      "VRDeck          float64\n",
      "Name             object\n",
      "Transported        bool\n",
      "dtype: object\n",
      "\n",
      "Rows and columns:\n",
      "(8693, 14)\n",
      "\n",
      "Column names:\n",
      "Index(['PassengerId', 'HomePlanet', 'CryoSleep', 'Cabin', 'Destination', 'Age',\n",
      "       'VIP', 'RoomService', 'FoodCourt', 'ShoppingMall', 'Spa', 'VRDeck',\n",
      "       'Name', 'Transported'],\n",
      "      dtype='object')\n",
      "\n",
      "Null values:\n",
      "PassengerId     0.000000\n",
      "HomePlanet      0.023122\n",
      "CryoSleep       0.024963\n",
      "Cabin           0.022892\n",
      "Destination     0.020936\n",
      "Age             0.020591\n",
      "VIP             0.023352\n",
      "RoomService     0.020821\n",
      "FoodCourt       0.021051\n",
      "ShoppingMall    0.023927\n",
      "Spa             0.021051\n",
      "VRDeck          0.021627\n",
      "Name            0.023007\n",
      "Transported     0.000000\n",
      "dtype: float64\n"
     ]
    }
   ],
   "source": [
    "# EDA\n",
    "def describe_data(df):\n",
    "    \n",
    "    print('Data types:')\n",
    "    print(df.dtypes)\n",
    "\n",
    "    print()\n",
    "    \n",
    "    print('Rows and columns:')\n",
    "    print(df.shape)\n",
    "    \n",
    "    print()\n",
    "    \n",
    "    print('Column names:')\n",
    "    print(df.columns)\n",
    "    \n",
    "    print()\n",
    "    \n",
    "    print('Null values:')\n",
    "    print(df.apply(lambda x: sum(x.isnull()) / len(df)))\n",
    "\n",
    "describe_data(train_data)"
   ]
  },
  {
   "cell_type": "code",
   "execution_count": 3,
   "id": "eb80b178",
   "metadata": {
    "execution": {
     "iopub.execute_input": "2022-07-01T17:22:15.323891Z",
     "iopub.status.busy": "2022-07-01T17:22:15.322373Z",
     "iopub.status.idle": "2022-07-01T17:22:17.291741Z",
     "shell.execute_reply": "2022-07-01T17:22:17.290457Z"
    },
    "papermill": {
     "duration": 1.976738,
     "end_time": "2022-07-01T17:22:17.294366",
     "exception": false,
     "start_time": "2022-07-01T17:22:15.317628",
     "status": "completed"
    },
    "tags": []
   },
   "outputs": [
    {
     "name": "stdout",
     "output_type": "stream",
     "text": [
      "1    4805\n",
      "2    1682\n",
      "3    1020\n",
      "4     412\n",
      "5     265\n",
      "7     231\n",
      "6     174\n",
      "8     104\n",
      "Name: group_size, dtype: int64\n"
     ]
    },
    {
     "data": {
      "image/png": "[encoded data removed]",
      "text/plain": [
       "<Figure size 360x360 with 1 Axes>"
      ]
     },
     "metadata": {
      "needs_background": "light"
     },
     "output_type": "display_data"
    },
    {
     "data": {
      "image/png": "[encoded data removed]",
      "text/plain": [
       "<Figure size 427.125x360 with 1 Axes>"
      ]
     },
     "metadata": {
      "needs_background": "light"
     },
     "output_type": "display_data"
    }
   ],
   "source": [
    "# Preprocess PassengerId\n",
    "import seaborn as sns\n",
    "\n",
    "# Train data\n",
    "# Split gggg and pp\n",
    "gggg_pp = train_data['PassengerId'].apply(lambda x: x.split('_')).values\n",
    "gggg = list(map(lambda x: x[0], gggg_pp))\n",
    "pp = list(map(lambda x: x[1], gggg_pp))\n",
    "train_data['gggg'] = gggg\n",
    "train_data['pp'] = pp\n",
    "\n",
    "# For each gggg, what is max pp\n",
    "train_data['pp'] = train_data['pp'].astype('int64')\n",
    "train_data['group_size'] = train_data.groupby(['gggg'])['pp'].transform(max)\n",
    "\n",
    "# Does group size have effect on target\n",
    "print(train_data['group_size'].value_counts())\n",
    "sns.catplot(x='group_size', kind='count', data=train_data)\n",
    "sns.catplot(x='group_size', kind='count', hue='Transported', data=train_data)\n",
    "\n",
    "# Test data\n",
    "gggg_pp = test_data['PassengerId'].apply(lambda x: x.split('_')).values\n",
    "gggg = list(map(lambda x: x[0], gggg_pp))\n",
    "pp = list(map(lambda x: x[1], gggg_pp))\n",
    "test_data['gggg'] = gggg\n",
    "test_data['pp'] = pp\n",
    "\n",
    "test_data['pp'] = test_data['pp'].astype('int64')\n",
    "test_data['group_size'] = test_data.groupby(['gggg'])['pp'].transform(max)"
   ]
  },
  {
   "cell_type": "code",
   "execution_count": 4,
   "id": "948d466e",
   "metadata": {
    "execution": {
     "iopub.execute_input": "2022-07-01T17:22:17.306217Z",
     "iopub.status.busy": "2022-07-01T17:22:17.304955Z",
     "iopub.status.idle": "2022-07-01T17:22:18.191985Z",
     "shell.execute_reply": "2022-07-01T17:22:18.190477Z"
    },
    "papermill": {
     "duration": 0.895731,
     "end_time": "2022-07-01T17:22:18.194665",
     "exception": false,
     "start_time": "2022-07-01T17:22:17.298934",
     "status": "completed"
    },
    "tags": []
   },
   "outputs": [
    {
     "data": {
      "image/png": "[encoded data removed]",
      "text/plain": [
       "<Figure size 427.125x360 with 1 Axes>"
      ]
     },
     "metadata": {
      "needs_background": "light"
     },
     "output_type": "display_data"
    },
    {
     "data": {
      "image/png": "[encoded data removed]",
      "text/plain": [
       "<Figure size 427.125x360 with 1 Axes>"
      ]
     },
     "metadata": {
      "needs_background": "light"
     },
     "output_type": "display_data"
    }
   ],
   "source": [
    "# Preprocess Cabin\n",
    "\n",
    "# Train data\n",
    "# Split values\n",
    "train_data['Cabin'].fillna('N/N/N', inplace=True) # Split won't work unless you fill in missing values\n",
    "deck_num_side = train_data['Cabin'].apply(lambda x: x.split('/'))\n",
    "\n",
    "# Deck\n",
    "deck = list(map(lambda x: x[0], deck_num_side))\n",
    "train_data['deck'] = deck\n",
    "sns.catplot(x='deck', kind='count', hue='Transported', data=train_data)\n",
    "\n",
    "# Side\n",
    "side = list(map(lambda x: x[2], deck_num_side))\n",
    "train_data['side'] = side\n",
    "sns.catplot(x='side', kind='count', hue='Transported', data=train_data)\n",
    "\n",
    "# Test data\n",
    "test_data['Cabin'].fillna('N/N/N', inplace=True) # Split won't work unless you fill in missing values\n",
    "deck_num_side = test_data['Cabin'].apply(lambda x: x.split('/'))\n",
    "\n",
    "# Deck\n",
    "deck = list(map(lambda x: x[0], deck_num_side))\n",
    "test_data['deck'] = deck\n",
    "\n",
    "# Side\n",
    "side = list(map(lambda x: x[2], deck_num_side))\n",
    "test_data['side'] = side"
   ]
  },
  {
   "cell_type": "code",
   "execution_count": 5,
   "id": "180642d1",
   "metadata": {
    "execution": {
     "iopub.execute_input": "2022-07-01T17:22:18.206808Z",
     "iopub.status.busy": "2022-07-01T17:22:18.205571Z",
     "iopub.status.idle": "2022-07-01T17:22:18.220869Z",
     "shell.execute_reply": "2022-07-01T17:22:18.219631Z"
    },
    "papermill": {
     "duration": 0.024689,
     "end_time": "2022-07-01T17:22:18.224054",
     "exception": false,
     "start_time": "2022-07-01T17:22:18.199365",
     "status": "completed"
    },
    "tags": []
   },
   "outputs": [],
   "source": [
    "# Create new feature for total spent on amenities\n",
    "amenities_cols = ['RoomService', 'FoodCourt', 'ShoppingMall', 'Spa', 'VRDeck']\n",
    "train_data['amenities'] = train_data[amenities_cols].sum(axis=1)\n",
    "test_data['amenities'] = test_data[amenities_cols].sum(axis=1)\n",
    "\n",
    "# Create new feature did passenger spend any on amenities\n",
    "train_data['no_amenities'] = train_data['amenities']==0\n",
    "test_data['no_amenities'] = train_data['amenities']==0"
   ]
  },
  {
   "cell_type": "code",
   "execution_count": 6,
   "id": "bbf7874d",
   "metadata": {
    "execution": {
     "iopub.execute_input": "2022-07-01T17:22:18.235709Z",
     "iopub.status.busy": "2022-07-01T17:22:18.235167Z",
     "iopub.status.idle": "2022-07-01T17:22:18.259911Z",
     "shell.execute_reply": "2022-07-01T17:22:18.258765Z"
    },
    "papermill": {
     "duration": 0.034499,
     "end_time": "2022-07-01T17:22:18.263365",
     "exception": false,
     "start_time": "2022-07-01T17:22:18.228866",
     "status": "completed"
    },
    "tags": []
   },
   "outputs": [],
   "source": [
    "# Separate target from predictors\n",
    "y_train = train_data.Transported\n",
    "X_train = train_data.drop(['PassengerId', 'Cabin', 'Name', 'gggg', 'pp', 'Transported'], axis=1)\n",
    "X_test = test_data.drop(['PassengerId', 'Cabin', 'Name', 'gggg', 'pp', ], axis=1)\n",
    "\n",
    "# Select categorical columns with relatively low cardinality\n",
    "categorical_cols = [cname for cname in X_train.columns if X_train[cname].nunique() < 10 and X_train[cname].dtype == 'object']\n",
    "\n",
    "#Select numerical columns\n",
    "numerical_cols = [cname for cname in X_train.columns if  X_train[cname].dtype in ['int64', 'float64']]\n",
    "\n",
    "# Keep selected columns only\n",
    "my_cols = categorical_cols + numerical_cols\n",
    "X_train = X_train[my_cols]\n",
    "X_test = X_test[my_cols]"
   ]
  },
  {
   "cell_type": "code",
   "execution_count": 7,
   "id": "ea2c9ac6",
   "metadata": {
    "execution": {
     "iopub.execute_input": "2022-07-01T17:22:18.274869Z",
     "iopub.status.busy": "2022-07-01T17:22:18.274410Z",
     "iopub.status.idle": "2022-07-01T17:22:18.612413Z",
     "shell.execute_reply": "2022-07-01T17:22:18.611166Z"
    },
    "papermill": {
     "duration": 0.346968,
     "end_time": "2022-07-01T17:22:18.615324",
     "exception": false,
     "start_time": "2022-07-01T17:22:18.268356",
     "status": "completed"
    },
    "tags": []
   },
   "outputs": [],
   "source": [
    "from sklearn.pipeline import Pipeline\n",
    "from sklearn.impute import SimpleImputer\n",
    "from sklearn.preprocessing import StandardScaler, OneHotEncoder\n",
    "from sklearn.compose import ColumnTransformer\n",
    "\n",
    "# Preprocessing for numerical data\n",
    "numerical_transformer = Pipeline(steps=[\n",
    "    ('imputer', SimpleImputer(strategy='constant')),\n",
    "    ('scaler', StandardScaler())\n",
    "])\n",
    "\n",
    "# Preprocessing for categorical data\n",
    "categorical_transformer = Pipeline(steps=[\n",
    "    ('imputer', SimpleImputer(strategy='most_frequent')),\n",
    "    ('onehot', OneHotEncoder(handle_unknown='ignore'))\n",
    "])\n",
    "\n",
    "# Bundle preprocessing for numerical and categorical data\n",
    "preprocessor = ColumnTransformer(\n",
    "    transformers=[\n",
    "        ('num', numerical_transformer, numerical_cols),\n",
    "        ('cat', categorical_transformer, categorical_cols)\n",
    "])"
   ]
  },
  {
   "cell_type": "code",
   "execution_count": 8,
   "id": "3c778593",
   "metadata": {
    "execution": {
     "iopub.execute_input": "2022-07-01T17:22:18.626041Z",
     "iopub.status.busy": "2022-07-01T17:22:18.625727Z",
     "iopub.status.idle": "2022-07-01T17:22:18.717738Z",
     "shell.execute_reply": "2022-07-01T17:22:18.716487Z"
    },
    "papermill": {
     "duration": 0.100606,
     "end_time": "2022-07-01T17:22:18.720692",
     "exception": false,
     "start_time": "2022-07-01T17:22:18.620086",
     "status": "completed"
    },
    "tags": []
   },
   "outputs": [],
   "source": [
    "# Define model\n",
    "from sklearn.ensemble import RandomForestClassifier\n",
    "\n",
    "model = RandomForestClassifier()"
   ]
  },
  {
   "cell_type": "code",
   "execution_count": 9,
   "id": "d93dfd25",
   "metadata": {
    "execution": {
     "iopub.execute_input": "2022-07-01T17:22:18.732681Z",
     "iopub.status.busy": "2022-07-01T17:22:18.731557Z",
     "iopub.status.idle": "2022-07-01T17:31:38.601179Z",
     "shell.execute_reply": "2022-07-01T17:31:38.599286Z"
    },
    "papermill": {
     "duration": 559.880542,
     "end_time": "2022-07-01T17:31:38.606243",
     "exception": false,
     "start_time": "2022-07-01T17:22:18.725701",
     "status": "completed"
    },
    "tags": []
   },
   "outputs": [
    {
     "name": "stdout",
     "output_type": "stream",
     "text": [
      "{'model__criterion': 'entropy', 'model__max_depth': 8, 'model__max_features': 'sqrt', 'model__n_estimators': 500}\n",
      "0.7947797465707511\n",
      "Your submission was successfully saved!\n"
     ]
    },
    {
     "name": "stderr",
     "output_type": "stream",
     "text": [
      "/opt/conda/lib/python3.7/site-packages/ipykernel_launcher.py:24: DeprecationWarning: `np.bool` is a deprecated alias for the builtin `bool`. To silence this warning, use `bool` by itself. Doing this will not modify any behavior and is safe. If you specifically wanted the numpy scalar type, use `np.bool_` here.\n",
      "Deprecated in NumPy 1.20; for more details and guidance: https://numpy.org/devdocs/release/1.20.0-notes.html#deprecations\n"
     ]
    }
   ],
   "source": [
    "import numpy as np\n",
    "\n",
    "# Bundle preprocessing and modeling code in a pipeline\n",
    "my_pipeline = Pipeline(steps=[('preprocessor', preprocessor),\n",
    "                              ('model', model)    \n",
    "                             ])\n",
    "\n",
    "# Perform CV\n",
    "param_grid = {'model__n_estimators': [200, 500],\n",
    "              'model__max_features': ['auto', 'sqrt', 'log2'],\n",
    "              'model__max_depth' : [4,5,6,7,8],\n",
    "              'model__criterion' :['gini', 'entropy'],\n",
    "             }\n",
    "\n",
    "from sklearn.model_selection import GridSearchCV\n",
    "CV = GridSearchCV(my_pipeline, param_grid, n_jobs=1)\n",
    "                  \n",
    "CV.fit(X_train, y_train)  \n",
    "print(CV.best_params_)    \n",
    "print(CV.best_score_)\n",
    "\n",
    "# Preprocessing of test data, get predictions\n",
    "preds = CV.predict(X_test)\n",
    "preds = preds.astype(np.bool) # Convert 0, 1 to boolean\n",
    "\n",
    "output = pd.DataFrame({'PassengerId': test_data.PassengerId, 'Transported': preds})\n",
    "output.to_csv('submission.csv', index=False)\n",
    "print(\"Your submission was successfully saved!\")"
   ]
  }
 ],
 "metadata": {
  "kernelspec": {
   "display_name": "Python 3",
   "language": "python",
   "name": "python3"
  },
  "language_info": {
   "codemirror_mode": {
    "name": "ipython",
    "version": 3
   },
   "file_extension": ".py",
   "mimetype": "text/x-python",
   "name": "python",
   "nbconvert_exporter": "python",
   "pygments_lexer": "ipython3",
   "version": "3.7.12"
  },
  "papermill": {
   "default_parameters": {},
   "duration": 574.92191,
   "end_time": "2022-07-01T17:31:39.335657",
   "environment_variables": {},
   "exception": null,
   "input_path": "__notebook__.ipynb",
   "output_path": "__notebook__.ipynb",
   "parameters": {},
   "start_time": "2022-07-01T17:22:04.413747",
   "version": "2.3.4"
  }
 },
 "nbformat": 4,
 "nbformat_minor": 5
}
